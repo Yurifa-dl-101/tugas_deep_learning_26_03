{
 "cells": [
  {
   "cell_type": "markdown",
   "metadata": {},
   "source": [
    "# Import the necessary libraries"
   ]
  },
  {
   "cell_type": "code",
   "execution_count": 2,
   "metadata": {},
   "outputs": [],
   "source": [
    "import warnings\n",
    "warnings.filterwarnings(\"default\", category=DeprecationWarning)\n",
    "\n",
    "import pandas as pd\n",
    "import matplotlib.pyplot as plt\n",
    "import seaborn as sns\n",
    "\n",
    "from sklearn.model_selection import train_test_split\n",
    "from sklearn.preprocessing import LabelEncoder\n",
    "\n",
    "from keras.models import Model\n",
    "from keras.layers import LSTM, Activation, Dense, Dropout, Input, Embedding\n",
    "from keras.optimizers import RMSprop\n",
    "from keras.preprocessing.text import Tokenizer\n",
    "from keras.preprocessing import sequence\n",
    "from keras.utils import to_categorical\n",
    "from keras.callbacks import EarlyStopping\n",
    "\n",
    "import keras\n",
    "import pydot as pyd\n",
    "keras.utils.vis_utils.pydot = pyd\n",
    "\n",
    "from IPython.display import SVG\n",
    "from keras.utils.vis_utils import model_to_dot\n",
    "from keras.utils import plot_model"
   ]
  },
  {
   "cell_type": "markdown",
   "metadata": {},
   "source": [
    "# Load the data into Pandas dataframe"
   ]
  },
  {
   "cell_type": "code",
   "execution_count": 3,
   "metadata": {},
   "outputs": [
    {
     "data": {
      "text/html": [
       "<div>\n",
       "<style scoped>\n",
       "    .dataframe tbody tr th:only-of-type {\n",
       "        vertical-align: middle;\n",
       "    }\n",
       "\n",
       "    .dataframe tbody tr th {\n",
       "        vertical-align: top;\n",
       "    }\n",
       "\n",
       "    .dataframe thead th {\n",
       "        text-align: right;\n",
       "    }\n",
       "</style>\n",
       "<table border=\"1\" class=\"dataframe\">\n",
       "  <thead>\n",
       "    <tr style=\"text-align: right;\">\n",
       "      <th></th>\n",
       "      <th>v1</th>\n",
       "      <th>v2</th>\n",
       "      <th>Unnamed: 2</th>\n",
       "      <th>Unnamed: 3</th>\n",
       "      <th>Unnamed: 4</th>\n",
       "    </tr>\n",
       "  </thead>\n",
       "  <tbody>\n",
       "    <tr>\n",
       "      <th>0</th>\n",
       "      <td>ham</td>\n",
       "      <td>Go until jurong point, crazy.. Available only ...</td>\n",
       "      <td>NaN</td>\n",
       "      <td>NaN</td>\n",
       "      <td>NaN</td>\n",
       "    </tr>\n",
       "    <tr>\n",
       "      <th>1</th>\n",
       "      <td>ham</td>\n",
       "      <td>Ok lar... Joking wif u oni...</td>\n",
       "      <td>NaN</td>\n",
       "      <td>NaN</td>\n",
       "      <td>NaN</td>\n",
       "    </tr>\n",
       "    <tr>\n",
       "      <th>2</th>\n",
       "      <td>spam</td>\n",
       "      <td>Free entry in 2 a wkly comp to win FA Cup fina...</td>\n",
       "      <td>NaN</td>\n",
       "      <td>NaN</td>\n",
       "      <td>NaN</td>\n",
       "    </tr>\n",
       "    <tr>\n",
       "      <th>3</th>\n",
       "      <td>ham</td>\n",
       "      <td>U dun say so early hor... U c already then say...</td>\n",
       "      <td>NaN</td>\n",
       "      <td>NaN</td>\n",
       "      <td>NaN</td>\n",
       "    </tr>\n",
       "    <tr>\n",
       "      <th>4</th>\n",
       "      <td>ham</td>\n",
       "      <td>Nah I don't think he goes to usf, he lives aro...</td>\n",
       "      <td>NaN</td>\n",
       "      <td>NaN</td>\n",
       "      <td>NaN</td>\n",
       "    </tr>\n",
       "  </tbody>\n",
       "</table>\n",
       "</div>"
      ],
      "text/plain": [
       "     v1                                                 v2 Unnamed: 2  \\\n",
       "0   ham  Go until jurong point, crazy.. Available only ...        NaN   \n",
       "1   ham                      Ok lar... Joking wif u oni...        NaN   \n",
       "2  spam  Free entry in 2 a wkly comp to win FA Cup fina...        NaN   \n",
       "3   ham  U dun say so early hor... U c already then say...        NaN   \n",
       "4   ham  Nah I don't think he goes to usf, he lives aro...        NaN   \n",
       "\n",
       "  Unnamed: 3 Unnamed: 4  \n",
       "0        NaN        NaN  \n",
       "1        NaN        NaN  \n",
       "2        NaN        NaN  \n",
       "3        NaN        NaN  \n",
       "4        NaN        NaN  "
      ]
     },
     "execution_count": 3,
     "metadata": {},
     "output_type": "execute_result"
    }
   ],
   "source": [
    "df = pd.read_csv('data/spam.csv',delimiter=',',encoding='latin-1')\n",
    "df.head()"
   ]
  },
  {
   "cell_type": "code",
   "execution_count": 4,
   "metadata": {},
   "outputs": [
    {
     "name": "stdout",
     "output_type": "stream",
     "text": [
      "<class 'pandas.core.frame.DataFrame'>\n",
      "RangeIndex: 5572 entries, 0 to 5571\n",
      "Data columns (total 2 columns):\n",
      " #   Column  Non-Null Count  Dtype \n",
      "---  ------  --------------  ----- \n",
      " 0   v1      5572 non-null   object\n",
      " 1   v2      5572 non-null   object\n",
      "dtypes: object(2)\n",
      "memory usage: 87.2+ KB\n"
     ]
    }
   ],
   "source": [
    "# drop unnecessary column\n",
    "df.drop(['Unnamed: 2', 'Unnamed: 3', 'Unnamed: 4'],axis=1,inplace=True)\n",
    "df.info()"
   ]
  },
  {
   "cell_type": "markdown",
   "metadata": {},
   "source": [
    "# Understanding data distribution better"
   ]
  },
  {
   "cell_type": "code",
   "execution_count": 5,
   "metadata": {},
   "outputs": [
    {
     "data": {
      "text/plain": [
       "Text(0.5, 1.0, 'Number of ham and spam messages')"
      ]
     },
     "execution_count": 5,
     "metadata": {},
     "output_type": "execute_result"
    },
    {
     "data": {
      "image/png": "[encoded data removed]",
      "text/plain": [
       "<Figure size 432x288 with 1 Axes>"
      ]
     },
     "metadata": {
      "needs_background": "light"
     },
     "output_type": "display_data"
    }
   ],
   "source": [
    "sns.countplot(df.v1)\n",
    "plt.xlabel('Label')\n",
    "plt.title('Number of ham and spam messages')"
   ]
  },
  {
   "cell_type": "markdown",
   "metadata": {},
   "source": [
    "## Create input and output vectors.\n",
    "### Process the labels."
   ]
  },
  {
   "cell_type": "code",
   "execution_count": 6,
   "metadata": {},
   "outputs": [],
   "source": [
    "X = df.v2\n",
    "Y = df.v1\n",
    "le = LabelEncoder() # sklearn preprocessing object LabelEncoder to encode label\n",
    "Y = le.fit_transform(Y) # fit and transform Y into encode label\n",
    "Y = Y.reshape(-1,1)  # reshape array into matrix 2D"
   ]
  },
  {
   "cell_type": "markdown",
   "metadata": {},
   "source": [
    "# Split into training and test data."
   ]
  },
  {
   "cell_type": "code",
   "execution_count": 7,
   "metadata": {},
   "outputs": [],
   "source": [
    "X_train,X_test,Y_train,Y_test = train_test_split(X,Y,test_size=0.15) # split data 85 : 15"
   ]
  },
  {
   "cell_type": "code",
   "execution_count": 8,
   "metadata": {
    "scrolled": true
   },
   "outputs": [
    {
     "data": {
      "text/plain": [
       "0        ham\n",
       "1        ham\n",
       "2       spam\n",
       "3        ham\n",
       "4        ham\n",
       "        ... \n",
       "5567    spam\n",
       "5568     ham\n",
       "5569     ham\n",
       "5570     ham\n",
       "5571     ham\n",
       "Name: v1, Length: 5572, dtype: object"
      ]
     },
     "execution_count": 8,
     "metadata": {},
     "output_type": "execute_result"
    }
   ],
   "source": [
    "df.v1"
   ]
  },
  {
   "cell_type": "code",
   "execution_count": 9,
   "metadata": {},
   "outputs": [
    {
     "data": {
      "text/plain": [
       "array([[0],\n",
       "       [0],\n",
       "       [1],\n",
       "       ...,\n",
       "       [0],\n",
       "       [0],\n",
       "       [0]])"
      ]
     },
     "execution_count": 9,
     "metadata": {},
     "output_type": "execute_result"
    }
   ],
   "source": [
    "Y"
   ]
  },
  {
   "cell_type": "code",
   "execution_count": 10,
   "metadata": {},
   "outputs": [
    {
     "data": {
      "text/plain": [
       "486     FREE MESSAGE Activate your 500 FREE Text Messa...\n",
       "4150                        ÌÏ comin to fetch us oredi...\n",
       "3759                       We'll join the  &lt;#&gt;  bus\n",
       "2984    No break time one... How... I come out n get m...\n",
       "336     Cool. So how come you havent been wined and di...\n",
       "                              ...                        \n",
       "722                             That is wondar full flim.\n",
       "2969                              U should make a fb list\n",
       "5333    Neither [in sterm voice] - i'm studying. All f...\n",
       "5416    My slave! I want you to take 2 or 3 pictures o...\n",
       "781     Hmmm ... I thought we said 2 hours slave, not ...\n",
       "Name: v2, Length: 4736, dtype: object"
      ]
     },
     "execution_count": 10,
     "metadata": {},
     "output_type": "execute_result"
    }
   ],
   "source": [
    "X_train"
   ]
  },
  {
   "cell_type": "markdown",
   "metadata": {},
   "source": [
    "# Process the data\n",
    "- Tokenize the data and convert the `text` to `sequences`.\n",
    "- Add padding `to ensure` `that all the sequences` `have the same shape`.\n",
    "- There are many ways of taking the `max_len` `and here` `an arbitrary` `length of 150` `is chosen`."
   ]
  },
  {
   "cell_type": "code",
   "execution_count": 11,
   "metadata": {},
   "outputs": [],
   "source": [
    "max_words = 1000 # arbitrary set max words for corpus top 1000 frequencies as index\n",
    "max_len = 150 # maximum len for max shape array"
   ]
  },
  {
   "cell_type": "markdown",
   "metadata": {},
   "source": [
    "\"\"\"\n",
    "All words have been mapped to integers and the integers represent the words sorted by their frequency. This is very common in text analysis to represent a dataset like this. So 4 represents the 4th most used word, 5 the 5th most used word and so on...\n",
    "\"\"\""
   ]
  },
  {
   "cell_type": "code",
   "execution_count": 12,
   "metadata": {},
   "outputs": [],
   "source": [
    "tok = Tokenizer(num_words=max_words) # keras.preprocessing.text \n",
    "# Tokenizer object\n",
    "\n",
    "tok.fit_on_texts(X_train) # Updates internal vocabulary based on a list \n",
    "# of texts\n",
    "\n",
    "sequences = tok.texts_to_sequences(X_train) # Transforms each text in \n",
    "# texts to a sequence of integers\n",
    "\n",
    "sequences_matrix = sequence.pad_sequences(sequences,maxlen=max_len) \n",
    "# keras.preprocessing sequence method to transforms a list of sequences \n",
    "# (lists of integers) into a 2D Numpy array of shape `(num_samples, \n",
    "# num_timesteps)`. `num_timesteps` is either the `maxlen` argument \n",
    "# if provided, or the length of the longest sequence otherwise"
   ]
  },
  {
   "cell_type": "code",
   "execution_count": 13,
   "metadata": {},
   "outputs": [
    {
     "name": "stdout",
     "output_type": "stream",
     "text": [
      "(1, 'i')\n",
      "(2, 'to')\n",
      "(3, 'you')\n",
      "(4, 'a')\n",
      "(5, 'the')\n",
      "(6, 'u')\n"
     ]
    }
   ],
   "source": [
    "for i,k in enumerate(tok.index_word.items()):  # top 1000 words\n",
    "    print(k)\n",
    "    if i == 5:\n",
    "        break"
   ]
  },
  {
   "cell_type": "code",
   "execution_count": 14,
   "metadata": {},
   "outputs": [
    {
     "name": "stdout",
     "output_type": "stream",
     "text": [
      "[45, 148, 13, 497, 45, 68, 485, 80, 2, 40, 148, 32, 5, 363, 45, 12, 972, 704, 144, 184]\n",
      "[257, 899, 2, 185, 790]\n",
      "[574, 469, 5, 41, 42, 413]\n",
      "[38, 845, 64, 74, 51, 1, 59, 50, 88, 30, 11, 289, 791, 113]\n",
      "[282, 22, 51, 59, 3, 639, 105, 7, 223]\n",
      "[1, 169, 3, 159, 3, 53, 13, 47, 1, 28, 104, 85, 433, 1, 247, 200, 540, 205, 290, 48, 39, 35, 33, 517, 640, 387]\n"
     ]
    }
   ],
   "source": [
    "for i,k in enumerate(sequences): # sequence of integers mapping words to tok corpus\n",
    "    print(k)\n",
    "    if i == 5:\n",
    "        break"
   ]
  },
  {
   "cell_type": "code",
   "execution_count": 15,
   "metadata": {},
   "outputs": [
    {
     "data": {
      "text/plain": [
       "array([[  0,   0,   0, ..., 704, 144, 184],\n",
       "       [  0,   0,   0, ...,   2, 185, 790],\n",
       "       [  0,   0,   0, ...,  41,  42, 413],\n",
       "       ...,\n",
       "       [  0,   0,   0, ..., 424,  17,   4],\n",
       "       [  0,   0,   0, ...,  13, 106, 783],\n",
       "       [  0,   0,   0, ..., 156,   1,   3]], dtype=int32)"
      ]
     },
     "execution_count": 15,
     "metadata": {},
     "output_type": "execute_result"
    }
   ],
   "source": [
    "sequences_matrix"
   ]
  },
  {
   "cell_type": "code",
   "execution_count": 16,
   "metadata": {},
   "outputs": [
    {
     "data": {
      "text/plain": [
       "(4736, 150)"
      ]
     },
     "execution_count": 16,
     "metadata": {},
     "output_type": "execute_result"
    }
   ],
   "source": [
    "sequences_matrix.shape # matrix 4736 x 150 \n",
    "# (after padding sequences 150 equally)"
   ]
  },
  {
   "cell_type": "markdown",
   "metadata": {},
   "source": [
    "- Input(name='inputs',shape=[max_len]) # input NN 150\n",
    "- Embedding(max_words,50,input_length=max_len)(inputs) # transform Output shape to 3D tensor with shape: `(batch_size, 150, 50) `50` as embedding dimensionality to getting context of sentence 50*1000= 50000 `will be 150` `vectors` `of 50 dimensions each`\n",
    "- LSTM(64)(layer) # default LSTM output to 64 layer with default activation function in LSTM\n",
    "- Dense(256,name='FC1')(layer) # nn 256 layers namely fc1\n",
    "- Activation('relu')(layer) # Applies an relu activation function to an output\n",
    "- Dropout(0.5)(layer) # applies min(1., max(0., 0.5)) no negative value or more than 1\n",
    "- Dense(1,name='out_layer')(layer) # nn 1 layers namely out_layer\n",
    "- Activation('sigmoid')(layer) # Applies an sigmoid activation function to an output\n",
    "- Model(inputs=inputs,outputs=layer) # all stack in model"
   ]
  },
  {
   "cell_type": "code",
   "execution_count": 17,
   "metadata": {},
   "outputs": [],
   "source": [
    "# RNN\n",
    "# Define the RNN structure.\n",
    "\n",
    "def RNN():\n",
    "    inputs = Input(name='inputs',shape=[max_len]) # input NN 150\n",
    "    layer = Embedding(max_words,50,input_length=max_len)(inputs) # transform Output shape to 3D tensor with shape: `(batch_size, 150, 50) `50` as embedding dimensionality to getting context of sentence 50*1000= 50000 `will be 150` `vectors` `of 50 dimensions each`\n",
    "    layer = LSTM(64)(layer) # default LSTM output to 64 layer with default activation function in LSTM\n",
    "    layer = Dense(256,name='FC1')(layer) # nn 256 layers namely fc1\n",
    "    layer = Activation('relu')(layer) # Applies an relu activation function to an output\n",
    "    layer = Dropout(0.5)(layer) # applies min(1., max(0., 0.5)) no negative value or more than 1\n",
    "    layer = Dense(1,name='out_layer')(layer) # nn 1 layers namely out_layer\n",
    "    layer = Activation('sigmoid')(layer) # Applies an sigmoid activation function to an output\n",
    "    model = Model(inputs=inputs,outputs=layer) # all stack in model\n",
    "    return model"
   ]
  },
  {
   "cell_type": "markdown",
   "metadata": {},
   "source": [
    "### Counting Updated Parameter\n",
    "- Embedding >> max_words X 50 = 50000\n",
    "\n",
    "- LSTM = g × [h(h+i) + h]\n",
    "= 4 × [64(64+50) + 64]\n",
    "= 4 x [64(114) + 64]\n",
    "= 4 x [7296 + 64]\n",
    "= 29440\n",
    "\n",
    "- FC1 layer FFNN 256 layer >> 64*256 + 256 = 16640 (feed forward neural network)\n",
    "\n",
    "- out_layer FFNN 1 layer >> 256*1 + 1 = 257\n",
    "\n",
    "total Trainable params: 96,337"
   ]
  },
  {
   "cell_type": "code",
   "execution_count": 18,
   "metadata": {},
   "outputs": [
    {
     "name": "stdout",
     "output_type": "stream",
     "text": [
      "Model: \"model_1\"\n",
      "_________________________________________________________________\n",
      "Layer (type)                 Output Shape              Param #   \n",
      "=================================================================\n",
      "inputs (InputLayer)          (None, 150)               0         \n",
      "_________________________________________________________________\n",
      "embedding_1 (Embedding)      (None, 150, 50)           50000     \n",
      "_________________________________________________________________\n",
      "lstm_1 (LSTM)                (None, 64)                29440     \n",
      "_________________________________________________________________\n",
      "FC1 (Dense)                  (None, 256)               16640     \n",
      "_________________________________________________________________\n",
      "activation_1 (Activation)    (None, 256)               0         \n",
      "_________________________________________________________________\n",
      "dropout_1 (Dropout)          (None, 256)               0         \n",
      "_________________________________________________________________\n",
      "out_layer (Dense)            (None, 1)                 257       \n",
      "_________________________________________________________________\n",
      "activation_2 (Activation)    (None, 1)                 0         \n",
      "=================================================================\n",
      "Total params: 96,337\n",
      "Trainable params: 96,337\n",
      "Non-trainable params: 0\n",
      "_________________________________________________________________\n",
      "WARNING:tensorflow:From /usr/local/anaconda3/envs/dl_101/lib/python3.7/site-packages/tensorflow/python/ops/nn_impl.py:180: add_dispatch_support.<locals>.wrapper (from tensorflow.python.ops.array_ops) is deprecated and will be removed in a future version.\n",
      "Instructions for updating:\n",
      "Use tf.where in 2.0, which has the same broadcast rule as np.where\n"
     ]
    }
   ],
   "source": [
    "# Call the function and compile the model.\n",
    "\n",
    "model = RNN()\n",
    "model.summary()\n",
    "model.compile(loss='binary_crossentropy',optimizer=RMSprop(),metrics=['accuracy'])"
   ]
  },
  {
   "cell_type": "markdown",
   "metadata": {},
   "source": [
    "# Visualize Model"
   ]
  },
  {
   "cell_type": "code",
   "execution_count": 19,
   "metadata": {},
   "outputs": [
    {
     "data": {
      "image/png": "[encoded data removed]",
      "text/plain": [
       "<IPython.core.display.Image object>"
      ]
     },
     "execution_count": 19,
     "metadata": {},
     "output_type": "execute_result"
    }
   ],
   "source": [
    "def visualize_model(model):\n",
    "    return SVG(model_to_dot(model).create(prog='dot', format='svg'))\n",
    "\n",
    "visualize_model(model)\n",
    "\n",
    "plot_model(model, to_file='model.png') # save image"
   ]
  },
  {
   "cell_type": "code",
   "execution_count": 20,
   "metadata": {},
   "outputs": [
    {
     "data": {
      "text/plain": [
       "(4736, 150)"
      ]
     },
     "execution_count": 20,
     "metadata": {},
     "output_type": "execute_result"
    }
   ],
   "source": [
    "sequences_matrix.shape"
   ]
  },
  {
   "cell_type": "code",
   "execution_count": 21,
   "metadata": {},
   "outputs": [
    {
     "name": "stdout",
     "output_type": "stream",
     "text": [
      "WARNING:tensorflow:From /usr/local/anaconda3/envs/dl_101/lib/python3.7/site-packages/keras/backend/tensorflow_backend.py:422: The name tf.global_variables is deprecated. Please use tf.compat.v1.global_variables instead.\n",
      "\n",
      "Train on 3788 samples, validate on 948 samples\n",
      "Epoch 1/10\n",
      "3788/3788 [==============================] - 25s 7ms/step - loss: 0.3454 - accuracy: 0.8627 - val_loss: 0.1476 - val_accuracy: 0.9684\n",
      "Epoch 2/10\n",
      "3788/3788 [==============================] - 20s 5ms/step - loss: 0.0892 - accuracy: 0.9778 - val_loss: 0.0713 - val_accuracy: 0.9768\n",
      "Epoch 3/10\n",
      "3788/3788 [==============================] - 20s 5ms/step - loss: 0.0481 - accuracy: 0.9876 - val_loss: 0.0438 - val_accuracy: 0.9873\n",
      "Epoch 4/10\n",
      "3788/3788 [==============================] - 20s 5ms/step - loss: 0.0323 - accuracy: 0.9921 - val_loss: 0.0426 - val_accuracy: 0.9873\n",
      "Epoch 5/10\n",
      "3788/3788 [==============================] - 23s 6ms/step - loss: 0.0284 - accuracy: 0.9926 - val_loss: 0.0432 - val_accuracy: 0.9852\n"
     ]
    },
    {
     "data": {
      "text/plain": [
       "<keras.callbacks.callbacks.History at 0x1a49b17210>"
      ]
     },
     "execution_count": 21,
     "metadata": {},
     "output_type": "execute_result"
    }
   ],
   "source": [
    "model.fit(sequences_matrix,Y_train,batch_size=128,epochs=10,\n",
    "          validation_split=0.2,callbacks=[EarlyStopping(monitor='val_loss',min_delta=0.0001)])"
   ]
  },
  {
   "cell_type": "code",
   "execution_count": 22,
   "metadata": {},
   "outputs": [],
   "source": [
    "# Process the test set data.\n",
    "test_sequences = tok.texts_to_sequences(X_test)\n",
    "test_sequences_matrix = sequence.pad_sequences(test_sequences,maxlen=max_len)"
   ]
  },
  {
   "cell_type": "code",
   "execution_count": 23,
   "metadata": {},
   "outputs": [
    {
     "name": "stdout",
     "output_type": "stream",
     "text": [
      "836/836 [==============================] - 4s 5ms/step\n"
     ]
    }
   ],
   "source": [
    "# Evaluate the model on the test set.\n",
    "\n",
    "accr = model.evaluate(test_sequences_matrix,Y_test)"
   ]
  },
  {
   "cell_type": "code",
   "execution_count": 24,
   "metadata": {},
   "outputs": [
    {
     "name": "stdout",
     "output_type": "stream",
     "text": [
      "Test set\n",
      "  Loss: 0.054\n",
      "  Accuracy: 0.982\n"
     ]
    }
   ],
   "source": [
    "print('Test set\\n  Loss: {:0.3f}\\n  Accuracy: {:0.3f}'.format(accr[0],accr[1]))"
   ]
  },
  {
   "cell_type": "code",
   "execution_count": 25,
   "metadata": {},
   "outputs": [],
   "source": [
    "y_pred_train = model.predict(sequences_matrix)"
   ]
  },
  {
   "cell_type": "code",
   "execution_count": 26,
   "metadata": {},
   "outputs": [
    {
     "data": {
      "text/html": [
       "<div>\n",
       "<style scoped>\n",
       "    .dataframe tbody tr th:only-of-type {\n",
       "        vertical-align: middle;\n",
       "    }\n",
       "\n",
       "    .dataframe tbody tr th {\n",
       "        vertical-align: top;\n",
       "    }\n",
       "\n",
       "    .dataframe thead th {\n",
       "        text-align: right;\n",
       "    }\n",
       "</style>\n",
       "<table border=\"1\" class=\"dataframe\">\n",
       "  <thead>\n",
       "    <tr style=\"text-align: right;\">\n",
       "      <th></th>\n",
       "      <th>y_pred_train</th>\n",
       "      <th>Y_train</th>\n",
       "    </tr>\n",
       "  </thead>\n",
       "  <tbody>\n",
       "    <tr>\n",
       "      <th>0</th>\n",
       "      <td>0.999304</td>\n",
       "      <td>1</td>\n",
       "    </tr>\n",
       "    <tr>\n",
       "      <th>1</th>\n",
       "      <td>0.000896</td>\n",
       "      <td>0</td>\n",
       "    </tr>\n",
       "    <tr>\n",
       "      <th>2</th>\n",
       "      <td>0.001020</td>\n",
       "      <td>0</td>\n",
       "    </tr>\n",
       "    <tr>\n",
       "      <th>3</th>\n",
       "      <td>0.000051</td>\n",
       "      <td>0</td>\n",
       "    </tr>\n",
       "    <tr>\n",
       "      <th>4</th>\n",
       "      <td>0.000717</td>\n",
       "      <td>0</td>\n",
       "    </tr>\n",
       "    <tr>\n",
       "      <th>...</th>\n",
       "      <td>...</td>\n",
       "      <td>...</td>\n",
       "    </tr>\n",
       "    <tr>\n",
       "      <th>4731</th>\n",
       "      <td>0.006445</td>\n",
       "      <td>0</td>\n",
       "    </tr>\n",
       "    <tr>\n",
       "      <th>4732</th>\n",
       "      <td>0.012415</td>\n",
       "      <td>0</td>\n",
       "    </tr>\n",
       "    <tr>\n",
       "      <th>4733</th>\n",
       "      <td>0.000515</td>\n",
       "      <td>0</td>\n",
       "    </tr>\n",
       "    <tr>\n",
       "      <th>4734</th>\n",
       "      <td>0.077483</td>\n",
       "      <td>0</td>\n",
       "    </tr>\n",
       "    <tr>\n",
       "      <th>4735</th>\n",
       "      <td>0.000352</td>\n",
       "      <td>0</td>\n",
       "    </tr>\n",
       "  </tbody>\n",
       "</table>\n",
       "<p>4736 rows × 2 columns</p>\n",
       "</div>"
      ],
      "text/plain": [
       "      y_pred_train  Y_train\n",
       "0         0.999304        1\n",
       "1         0.000896        0\n",
       "2         0.001020        0\n",
       "3         0.000051        0\n",
       "4         0.000717        0\n",
       "...            ...      ...\n",
       "4731      0.006445        0\n",
       "4732      0.012415        0\n",
       "4733      0.000515        0\n",
       "4734      0.077483        0\n",
       "4735      0.000352        0\n",
       "\n",
       "[4736 rows x 2 columns]"
      ]
     },
     "execution_count": 26,
     "metadata": {},
     "output_type": "execute_result"
    }
   ],
   "source": [
    "pd.concat([pd.DataFrame(y_pred_train,columns=['y_pred_train']),\n",
    "  pd.DataFrame(Y_train,columns=['Y_train'])],axis=1)"
   ]
  },
  {
   "cell_type": "code",
   "execution_count": 27,
   "metadata": {
    "scrolled": true
   },
   "outputs": [],
   "source": [
    "y_pred = model.predict(test_sequences_matrix)"
   ]
  },
  {
   "cell_type": "code",
   "execution_count": 28,
   "metadata": {},
   "outputs": [],
   "source": [
    "pd.set_option('display.max_rows',100)"
   ]
  },
  {
   "cell_type": "code",
   "execution_count": 29,
   "metadata": {},
   "outputs": [
    {
     "data": {
      "text/html": [
       "<div>\n",
       "<style scoped>\n",
       "    .dataframe tbody tr th:only-of-type {\n",
       "        vertical-align: middle;\n",
       "    }\n",
       "\n",
       "    .dataframe tbody tr th {\n",
       "        vertical-align: top;\n",
       "    }\n",
       "\n",
       "    .dataframe thead th {\n",
       "        text-align: right;\n",
       "    }\n",
       "</style>\n",
       "<table border=\"1\" class=\"dataframe\">\n",
       "  <thead>\n",
       "    <tr style=\"text-align: right;\">\n",
       "      <th></th>\n",
       "      <th>y_pred</th>\n",
       "      <th>Y_test</th>\n",
       "    </tr>\n",
       "  </thead>\n",
       "  <tbody>\n",
       "    <tr>\n",
       "      <th>0</th>\n",
       "      <td>0.000118</td>\n",
       "      <td>0</td>\n",
       "    </tr>\n",
       "    <tr>\n",
       "      <th>1</th>\n",
       "      <td>0.001236</td>\n",
       "      <td>0</td>\n",
       "    </tr>\n",
       "    <tr>\n",
       "      <th>2</th>\n",
       "      <td>0.007239</td>\n",
       "      <td>0</td>\n",
       "    </tr>\n",
       "    <tr>\n",
       "      <th>3</th>\n",
       "      <td>0.017745</td>\n",
       "      <td>0</td>\n",
       "    </tr>\n",
       "    <tr>\n",
       "      <th>4</th>\n",
       "      <td>0.000053</td>\n",
       "      <td>0</td>\n",
       "    </tr>\n",
       "    <tr>\n",
       "      <th>...</th>\n",
       "      <td>...</td>\n",
       "      <td>...</td>\n",
       "    </tr>\n",
       "    <tr>\n",
       "      <th>831</th>\n",
       "      <td>0.000377</td>\n",
       "      <td>0</td>\n",
       "    </tr>\n",
       "    <tr>\n",
       "      <th>832</th>\n",
       "      <td>0.001298</td>\n",
       "      <td>0</td>\n",
       "    </tr>\n",
       "    <tr>\n",
       "      <th>833</th>\n",
       "      <td>0.000121</td>\n",
       "      <td>0</td>\n",
       "    </tr>\n",
       "    <tr>\n",
       "      <th>834</th>\n",
       "      <td>0.060831</td>\n",
       "      <td>0</td>\n",
       "    </tr>\n",
       "    <tr>\n",
       "      <th>835</th>\n",
       "      <td>0.114479</td>\n",
       "      <td>0</td>\n",
       "    </tr>\n",
       "  </tbody>\n",
       "</table>\n",
       "<p>836 rows × 2 columns</p>\n",
       "</div>"
      ],
      "text/plain": [
       "       y_pred  Y_test\n",
       "0    0.000118       0\n",
       "1    0.001236       0\n",
       "2    0.007239       0\n",
       "3    0.017745       0\n",
       "4    0.000053       0\n",
       "..        ...     ...\n",
       "831  0.000377       0\n",
       "832  0.001298       0\n",
       "833  0.000121       0\n",
       "834  0.060831       0\n",
       "835  0.114479       0\n",
       "\n",
       "[836 rows x 2 columns]"
      ]
     },
     "execution_count": 29,
     "metadata": {},
     "output_type": "execute_result"
    }
   ],
   "source": [
    "pd.concat([pd.DataFrame(y_pred,columns=['y_pred']),\n",
    "  pd.DataFrame(Y_test,columns=['Y_test'])],axis=1)"
   ]
  },
  {
   "cell_type": "code",
   "execution_count": 30,
   "metadata": {},
   "outputs": [],
   "source": [
    "model.save_weights('weights.h5')"
   ]
  },
  {
   "cell_type": "markdown",
   "metadata": {},
   "source": [
    "### Lets Compare Another model"
   ]
  },
  {
   "cell_type": "code",
   "execution_count": 31,
   "metadata": {},
   "outputs": [],
   "source": [
    "from keras.layers import SimpleRNN"
   ]
  },
  {
   "cell_type": "code",
   "execution_count": 32,
   "metadata": {},
   "outputs": [],
   "source": [
    "# RNN\n",
    "# Define the RNN structure.\n",
    "\n",
    "def RNN():\n",
    "    inputs = Input(name='inputs',shape=[max_len]) # input NN 150\n",
    "    layer = Embedding(max_words,10,input_length=max_len)(inputs) # transform Output shape to 3D tensor with shape: `(batch_size, 150, 10) `10` as embedding dimensionality to getting context of sentence 10*1000= 50000 `will be 150` `vectors` `of 50 dimensions each`\n",
    "    layer = SimpleRNN(64)(layer) # default LSTM output to 64 layer with default activation function in LSTM\n",
    "    layer = Dense(256,name='FC1')(layer) # nn 256 layers namely fc1\n",
    "    layer = Activation('relu')(layer) # Applies an relu activation function to an output\n",
    "    layer = Dropout(0.5)(layer) # applies min(1., max(0., 0.5)) no negative value or more than 1\n",
    "    layer = Dense(1,name='out_layer')(layer) # nn 1 layers namely out_layer\n",
    "    layer = Activation('sigmoid')(layer) # Applies an sigmoid activation function to an output\n",
    "    model = Model(inputs=inputs,outputs=layer) # all stack in model\n",
    "    return model"
   ]
  },
  {
   "cell_type": "markdown",
   "metadata": {},
   "source": [
    "### Counting Updated Parameter\n",
    "- Embedding >> max_words X 10 = 10000\n",
    "\n",
    "- simple RNN = g × [h(h+i) + h]\n",
    "= 1 × [64(64+10) + 64]\n",
    "= 1 x [64(74) + 64]\n",
    "= 4800\n",
    "\n",
    "- FC1 layer FFNN 256 layer >> 64*256 + 256 = 16640 (feed forward neural network)\n",
    "\n",
    "- out_layer FFNN 1 layer >> 256*1 + 1 = 257\n",
    "\n",
    "total Trainable params: 31,697"
   ]
  },
  {
   "cell_type": "code",
   "execution_count": 33,
   "metadata": {},
   "outputs": [
    {
     "name": "stdout",
     "output_type": "stream",
     "text": [
      "Model: \"model_2\"\n",
      "_________________________________________________________________\n",
      "Layer (type)                 Output Shape              Param #   \n",
      "=================================================================\n",
      "inputs (InputLayer)          (None, 150)               0         \n",
      "_________________________________________________________________\n",
      "embedding_2 (Embedding)      (None, 150, 10)           10000     \n",
      "_________________________________________________________________\n",
      "simple_rnn_1 (SimpleRNN)     (None, 64)                4800      \n",
      "_________________________________________________________________\n",
      "FC1 (Dense)                  (None, 256)               16640     \n",
      "_________________________________________________________________\n",
      "activation_3 (Activation)    (None, 256)               0         \n",
      "_________________________________________________________________\n",
      "dropout_2 (Dropout)          (None, 256)               0         \n",
      "_________________________________________________________________\n",
      "out_layer (Dense)            (None, 1)                 257       \n",
      "_________________________________________________________________\n",
      "activation_4 (Activation)    (None, 1)                 0         \n",
      "=================================================================\n",
      "Total params: 31,697\n",
      "Trainable params: 31,697\n",
      "Non-trainable params: 0\n",
      "_________________________________________________________________\n"
     ]
    }
   ],
   "source": [
    "# Call the function and compile the model.\n",
    "\n",
    "model = RNN()\n",
    "model.summary()\n",
    "model.compile(loss='binary_crossentropy',optimizer=RMSprop(),metrics=['accuracy'])"
   ]
  },
  {
   "cell_type": "code",
   "execution_count": 34,
   "metadata": {},
   "outputs": [
    {
     "name": "stdout",
     "output_type": "stream",
     "text": [
      "Train on 3788 samples, validate on 948 samples\n",
      "Epoch 1/10\n",
      "3788/3788 [==============================] - 8s 2ms/step - loss: 0.4033 - accuracy: 0.8530 - val_loss: 0.2716 - val_accuracy: 0.8703\n",
      "Epoch 2/10\n",
      "3788/3788 [==============================] - 6s 2ms/step - loss: 0.2220 - accuracy: 0.9007 - val_loss: 0.1246 - val_accuracy: 0.9789\n",
      "Epoch 3/10\n",
      "3788/3788 [==============================] - 6s 2ms/step - loss: 0.1142 - accuracy: 0.9601 - val_loss: 0.0706 - val_accuracy: 0.9800\n",
      "Epoch 4/10\n",
      "3788/3788 [==============================] - 6s 2ms/step - loss: 0.0710 - accuracy: 0.9810 - val_loss: 0.0529 - val_accuracy: 0.9852\n",
      "Epoch 5/10\n",
      "3788/3788 [==============================] - 6s 2ms/step - loss: 0.0506 - accuracy: 0.9852 - val_loss: 0.0412 - val_accuracy: 0.9905\n",
      "Epoch 6/10\n",
      "3788/3788 [==============================] - 6s 2ms/step - loss: 0.0431 - accuracy: 0.9868 - val_loss: 0.0438 - val_accuracy: 0.9863\n"
     ]
    },
    {
     "data": {
      "text/plain": [
       "<keras.callbacks.callbacks.History at 0x1a5362c4d0>"
      ]
     },
     "execution_count": 34,
     "metadata": {},
     "output_type": "execute_result"
    }
   ],
   "source": [
    "model.fit(sequences_matrix,Y_train,batch_size=128,epochs=10,\n",
    "          validation_split=0.2,callbacks=[EarlyStopping(monitor='val_loss',min_delta=0.0001)])"
   ]
  },
  {
   "cell_type": "code",
   "execution_count": 35,
   "metadata": {},
   "outputs": [
    {
     "name": "stdout",
     "output_type": "stream",
     "text": [
      "836/836 [==============================] - 1s 1ms/step\n"
     ]
    }
   ],
   "source": [
    "# Evaluate the model on the test set.\n",
    "\n",
    "accr = model.evaluate(test_sequences_matrix,Y_test)"
   ]
  },
  {
   "cell_type": "code",
   "execution_count": 36,
   "metadata": {},
   "outputs": [
    {
     "name": "stdout",
     "output_type": "stream",
     "text": [
      "Test set\n",
      "  Loss: 0.053\n",
      "  Accuracy: 0.980\n"
     ]
    }
   ],
   "source": [
    "print('Test set\\n  Loss: {:0.3f}\\n  Accuracy: {:0.3f}'.format(accr[0],accr[1]))"
   ]
  },
  {
   "cell_type": "code",
   "execution_count": 37,
   "metadata": {},
   "outputs": [],
   "source": [
    "model.save_weights('weights_simple_rnn.h5')"
   ]
  },
  {
   "cell_type": "markdown",
   "metadata": {},
   "source": [
    "# GRU"
   ]
  },
  {
   "cell_type": "code",
   "execution_count": 38,
   "metadata": {},
   "outputs": [],
   "source": [
    "from keras.layers import GRU"
   ]
  },
  {
   "cell_type": "code",
   "execution_count": 39,
   "metadata": {},
   "outputs": [],
   "source": [
    "# RNN\n",
    "# Define the RNN structure.\n",
    "\n",
    "def RNN():\n",
    "    inputs = Input(name='inputs',shape=[max_len]) # input NN 150\n",
    "    layer = Embedding(max_words,10,input_length=max_len)(inputs) # transform Output shape to 3D tensor with shape: `(batch_size, 150, 10) `10` as embedding dimensionality to getting context of sentence 10*1000= 50000 `will be 150` `vectors` `of 50 dimensions each`\n",
    "    layer = GRU(50)(layer) # default LSTM output to 64 layer with default activation function in LSTM\n",
    "    layer = Dense(256,name='FC1')(layer) # nn 256 layers namely fc1\n",
    "    layer = Activation('relu')(layer) # Applies an relu activation function to an output\n",
    "    layer = Dropout(0.5)(layer) # applies min(1., max(0., 0.5)) no negative value or more than 1\n",
    "    layer = Dense(1,name='out_layer')(layer) # nn 1 layers namely out_layer\n",
    "    layer = Activation('sigmoid')(layer) # Applies an sigmoid activation function to an output\n",
    "    model = Model(inputs=inputs,outputs=layer) # all stack in model\n",
    "    return model"
   ]
  },
  {
   "cell_type": "markdown",
   "metadata": {},
   "source": [
    "### Counting Updated Parameter\n",
    "- Embedding >> max_words X 10 = 10000\n",
    "\n",
    "- GRU = g × [h(h+i) + h]\n",
    "= 3 × [50(50+10) + 50]\n",
    "= 3 x [50(60) + 50]\n",
    "= 9150\n",
    "\n",
    "- FC1 layer FFNN 256 layer >> 50*256 + 256 = 13056 (feed forward neural network)\n",
    "\n",
    "- out_layer FFNN 1 layer >> 256*1 + 1 = 257\n",
    "\n",
    "total Trainable params: 32,463"
   ]
  },
  {
   "cell_type": "code",
   "execution_count": 40,
   "metadata": {},
   "outputs": [
    {
     "name": "stdout",
     "output_type": "stream",
     "text": [
      "Model: \"model_3\"\n",
      "_________________________________________________________________\n",
      "Layer (type)                 Output Shape              Param #   \n",
      "=================================================================\n",
      "inputs (InputLayer)          (None, 150)               0         \n",
      "_________________________________________________________________\n",
      "embedding_3 (Embedding)      (None, 150, 10)           10000     \n",
      "_________________________________________________________________\n",
      "gru_1 (GRU)                  (None, 50)                9150      \n",
      "_________________________________________________________________\n",
      "FC1 (Dense)                  (None, 256)               13056     \n",
      "_________________________________________________________________\n",
      "activation_5 (Activation)    (None, 256)               0         \n",
      "_________________________________________________________________\n",
      "dropout_3 (Dropout)          (None, 256)               0         \n",
      "_________________________________________________________________\n",
      "out_layer (Dense)            (None, 1)                 257       \n",
      "_________________________________________________________________\n",
      "activation_6 (Activation)    (None, 1)                 0         \n",
      "=================================================================\n",
      "Total params: 32,463\n",
      "Trainable params: 32,463\n",
      "Non-trainable params: 0\n",
      "_________________________________________________________________\n"
     ]
    }
   ],
   "source": [
    "# Call the function and compile the model.\n",
    "\n",
    "model = RNN()\n",
    "model.summary()\n",
    "model.compile(loss='binary_crossentropy',optimizer=RMSprop(),metrics=['accuracy'])"
   ]
  },
  {
   "cell_type": "code",
   "execution_count": 41,
   "metadata": {},
   "outputs": [
    {
     "name": "stdout",
     "output_type": "stream",
     "text": [
      "Train on 3788 samples, validate on 948 samples\n",
      "Epoch 1/10\n",
      "3788/3788 [==============================] - 22s 6ms/step - loss: 0.4072 - accuracy: 0.8493 - val_loss: 0.2312 - val_accuracy: 0.8703\n",
      "Epoch 2/10\n",
      "3788/3788 [==============================] - 20s 5ms/step - loss: 0.1576 - accuracy: 0.9403 - val_loss: 0.0852 - val_accuracy: 0.9768\n",
      "Epoch 3/10\n",
      "3788/3788 [==============================] - 18s 5ms/step - loss: 0.0618 - accuracy: 0.9844 - val_loss: 0.0514 - val_accuracy: 0.9842\n",
      "Epoch 4/10\n",
      "3788/3788 [==============================] - 15s 4ms/step - loss: 0.0393 - accuracy: 0.9879 - val_loss: 1.1908 - val_accuracy: 0.8945\n"
     ]
    },
    {
     "data": {
      "text/plain": [
       "<keras.callbacks.callbacks.History at 0x1a541afd90>"
      ]
     },
     "execution_count": 41,
     "metadata": {},
     "output_type": "execute_result"
    }
   ],
   "source": [
    "model.fit(sequences_matrix,Y_train,batch_size=128,epochs=10,\n",
    "          validation_split=0.2,callbacks=[EarlyStopping(monitor='val_loss',min_delta=0.0001)])"
   ]
  },
  {
   "cell_type": "code",
   "execution_count": 44,
   "metadata": {},
   "outputs": [
    {
     "name": "stdout",
     "output_type": "stream",
     "text": [
      "836/836 [==============================] - 2s 2ms/step\n"
     ]
    }
   ],
   "source": [
    "# Evaluate the model on the test set.\n",
    "\n",
    "accr = model.evaluate(test_sequences_matrix,Y_test)"
   ]
  },
  {
   "cell_type": "code",
   "execution_count": 45,
   "metadata": {},
   "outputs": [
    {
     "name": "stdout",
     "output_type": "stream",
     "text": [
      "Test set\n",
      "  Loss: 1.206\n",
      "  Accuracy: 0.894\n"
     ]
    }
   ],
   "source": [
    "print('Test set\\n  Loss: {:0.3f}\\n  Accuracy: {:0.3f}'.format(accr[0],accr[1]))"
   ]
  },
  {
   "cell_type": "code",
   "execution_count": 46,
   "metadata": {},
   "outputs": [],
   "source": [
    "model.save_weights('weights_GRU.h5')"
   ]
  },
  {
   "cell_type": "code",
   "execution_count": null,
   "metadata": {},
   "outputs": [],
   "source": []
  }
 ],
 "metadata": {
  "kernelspec": {
   "display_name": "Python 3",
   "language": "python",
   "name": "python3"
  },
  "language_info": {
   "codemirror_mode": {
    "name": "ipython",
    "version": 3
   },
   "file_extension": ".py",
   "mimetype": "text/x-python",
   "name": "python",
   "nbconvert_exporter": "python",
   "pygments_lexer": "ipython3",
   "version": "3.7.7"
  }
 },
 "nbformat": 4,
 "nbformat_minor": 2
}
